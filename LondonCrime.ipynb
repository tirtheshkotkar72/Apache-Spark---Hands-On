{
 "cells": [
  {
   "cell_type": "code",
   "execution_count": 1,
   "metadata": {},
   "outputs": [],
   "source": [
    "from pyspark.sql import SparkSession"
   ]
  },
  {
   "cell_type": "code",
   "execution_count": 2,
   "metadata": {},
   "outputs": [],
   "source": [
    "spark = SparkSession.builder.appName(\"Analysing London crime data\")\\\n",
    "                            .getOrCreate()"
   ]
  },
  {
   "cell_type": "code",
   "execution_count": 12,
   "metadata": {},
   "outputs": [],
   "source": [
    "data = spark.read\\\n",
    "            .format(\"csv\")\\\n",
    "            .option('header', 'true')\\\n",
    "            .load(\"./Datasets/london_crime_by_lsoa.csv\")"
   ]
  },
  {
   "cell_type": "markdown",
   "metadata": {},
   "source": [
    "## Exploring London Crime Dataset"
   ]
  },
  {
   "cell_type": "code",
   "execution_count": 13,
   "metadata": {},
   "outputs": [
    {
     "name": "stdout",
     "output_type": "stream",
     "text": [
      "root\n",
      " |-- lsoa_code: string (nullable = true)\n",
      " |-- borough: string (nullable = true)\n",
      " |-- major_category: string (nullable = true)\n",
      " |-- minor_category: string (nullable = true)\n",
      " |-- value: string (nullable = true)\n",
      " |-- year: string (nullable = true)\n",
      " |-- month: string (nullable = true)\n",
      "\n"
     ]
    }
   ],
   "source": [
    "data.printSchema()"
   ]
  },
  {
   "cell_type": "code",
   "execution_count": 14,
   "metadata": {},
   "outputs": [
    {
     "data": {
      "text/plain": [
       "13490604"
      ]
     },
     "execution_count": 14,
     "metadata": {},
     "output_type": "execute_result"
    }
   ],
   "source": [
    "data.count()"
   ]
  },
  {
   "cell_type": "code",
   "execution_count": 15,
   "metadata": {},
   "outputs": [
    {
     "name": "stdout",
     "output_type": "stream",
     "text": [
      "+---------+----------+--------------------+--------------------+-----+----+-----+\n",
      "|lsoa_code|   borough|      major_category|      minor_category|value|year|month|\n",
      "+---------+----------+--------------------+--------------------+-----+----+-----+\n",
      "|E01001116|   Croydon|            Burglary|Burglary in Other...|    0|2016|   11|\n",
      "|E01001646| Greenwich|Violence Against ...|      Other violence|    0|2016|   11|\n",
      "|E01000677|   Bromley|Violence Against ...|      Other violence|    0|2015|    5|\n",
      "|E01003774| Redbridge|            Burglary|Burglary in Other...|    0|2016|    3|\n",
      "|E01004563|Wandsworth|             Robbery|   Personal Property|    0|2008|    6|\n",
      "+---------+----------+--------------------+--------------------+-----+----+-----+\n",
      "\n"
     ]
    }
   ],
   "source": [
    "data.limit(5).show()"
   ]
  },
  {
   "cell_type": "code",
   "execution_count": 18,
   "metadata": {},
   "outputs": [
    {
     "data": {
      "text/plain": [
       "[Row(lsoa_code='E01001116', borough='Croydon', major_category='Burglary', minor_category='Burglary in Other Buildings', value='0', year='2016', month='11'),\n",
       " Row(lsoa_code='E01001646', borough='Greenwich', major_category='Violence Against the Person', minor_category='Other violence', value='0', year='2016', month='11'),\n",
       " Row(lsoa_code='E01000677', borough='Bromley', major_category='Violence Against the Person', minor_category='Other violence', value='0', year='2015', month='5'),\n",
       " Row(lsoa_code='E01003774', borough='Redbridge', major_category='Burglary', minor_category='Burglary in Other Buildings', value='0', year='2016', month='3'),\n",
       " Row(lsoa_code='E01004563', borough='Wandsworth', major_category='Robbery', minor_category='Personal Property', value='0', year='2008', month='6')]"
      ]
     },
     "execution_count": 18,
     "metadata": {},
     "output_type": "execute_result"
    }
   ],
   "source": [
    "data.take(5)"
   ]
  },
  {
   "cell_type": "code",
   "execution_count": 19,
   "metadata": {},
   "outputs": [
    {
     "data": {
      "text/plain": [
       "DataFrame[lsoa_code: string, borough: string, major_category: string, minor_category: string, value: string, year: string, month: string]"
      ]
     },
     "execution_count": 19,
     "metadata": {},
     "output_type": "execute_result"
    }
   ],
   "source": [
    "data.dropna()"
   ]
  },
  {
   "cell_type": "code",
   "execution_count": 20,
   "metadata": {},
   "outputs": [
    {
     "name": "stdout",
     "output_type": "stream",
     "text": [
      "+----------+--------------------+--------------------+-----+----+-----+\n",
      "|   borough|      major_category|      minor_category|value|year|month|\n",
      "+----------+--------------------+--------------------+-----+----+-----+\n",
      "|   Croydon|            Burglary|Burglary in Other...|    0|2016|   11|\n",
      "| Greenwich|Violence Against ...|      Other violence|    0|2016|   11|\n",
      "|   Bromley|Violence Against ...|      Other violence|    0|2015|    5|\n",
      "| Redbridge|            Burglary|Burglary in Other...|    0|2016|    3|\n",
      "|Wandsworth|             Robbery|   Personal Property|    0|2008|    6|\n",
      "+----------+--------------------+--------------------+-----+----+-----+\n",
      "only showing top 5 rows\n",
      "\n"
     ]
    }
   ],
   "source": [
    "data = data.drop('lsoa_code')\n",
    "data.show(5)"
   ]
  },
  {
   "cell_type": "code",
   "execution_count": 28,
   "metadata": {},
   "outputs": [
    {
     "name": "stdout",
     "output_type": "stream",
     "text": [
      "+--------------------+\n",
      "|             borough|\n",
      "+--------------------+\n",
      "|             Croydon|\n",
      "|          Wandsworth|\n",
      "|              Bexley|\n",
      "|             Lambeth|\n",
      "|Barking and Dagenham|\n",
      "|              Camden|\n",
      "|           Greenwich|\n",
      "|              Newham|\n",
      "|       Tower Hamlets|\n",
      "|            Hounslow|\n",
      "|              Barnet|\n",
      "|              Harrow|\n",
      "|Kensington and Ch...|\n",
      "|           Islington|\n",
      "|               Brent|\n",
      "|            Haringey|\n",
      "|             Bromley|\n",
      "|              Merton|\n",
      "|         Westminster|\n",
      "|             Hackney|\n",
      "+--------------------+\n",
      "only showing top 20 rows\n",
      "\n"
     ]
    }
   ],
   "source": [
    "total_boroughs = data.select('borough')\\\n",
    "                     .distinct().show()\n"
   ]
  },
  {
   "cell_type": "code",
   "execution_count": 33,
   "metadata": {},
   "outputs": [
    {
     "ename": "AttributeError",
     "evalue": "'NoneType' object has no attribute 'show'",
     "output_type": "error",
     "traceback": [
      "\u001b[0;31m---------------------------------------------------------------------------\u001b[0m",
      "\u001b[0;31mAttributeError\u001b[0m                            Traceback (most recent call last)",
      "\u001b[0;32m<ipython-input-33-37c198e5c810>\u001b[0m in \u001b[0;36m<module>\u001b[0;34m\u001b[0m\n\u001b[0;32m----> 1\u001b[0;31m \u001b[0mtotal_boroughs\u001b[0m\u001b[0;34m.\u001b[0m\u001b[0mshow\u001b[0m\u001b[0;34m(\u001b[0m\u001b[0;34m)\u001b[0m\u001b[0;34m\u001b[0m\u001b[0;34m\u001b[0m\u001b[0m\n\u001b[0m",
      "\u001b[0;31mAttributeError\u001b[0m: 'NoneType' object has no attribute 'show'"
     ]
    }
   ],
   "source": [
    "total_boroughs.show()"
   ]
  },
  {
   "cell_type": "code",
   "execution_count": 34,
   "metadata": {},
   "outputs": [
    {
     "data": {
      "text/plain": [
       "NoneType"
      ]
     },
     "execution_count": 34,
     "metadata": {},
     "output_type": "execute_result"
    }
   ],
   "source": [
    "type(total_boroughs)"
   ]
  },
  {
   "cell_type": "code",
   "execution_count": 37,
   "metadata": {},
   "outputs": [
    {
     "name": "stdout",
     "output_type": "stream",
     "text": [
      "+--------------------+\n",
      "|             borough|\n",
      "+--------------------+\n",
      "|             Croydon|\n",
      "|          Wandsworth|\n",
      "|              Bexley|\n",
      "|             Lambeth|\n",
      "|Barking and Dagenham|\n",
      "|              Camden|\n",
      "|           Greenwich|\n",
      "|              Newham|\n",
      "|       Tower Hamlets|\n",
      "|            Hounslow|\n",
      "|              Barnet|\n",
      "|              Harrow|\n",
      "|Kensington and Ch...|\n",
      "|           Islington|\n",
      "|               Brent|\n",
      "|            Haringey|\n",
      "|             Bromley|\n",
      "|              Merton|\n",
      "|         Westminster|\n",
      "|             Hackney|\n",
      "+--------------------+\n",
      "only showing top 20 rows\n",
      "\n"
     ]
    }
   ],
   "source": [
    "total_boroughs = data.select('borough')\\\n",
    "                     .distinct()   \n",
    "total_boroughs.show()"
   ]
  },
  {
   "cell_type": "code",
   "execution_count": 38,
   "metadata": {},
   "outputs": [
    {
     "data": {
      "text/plain": [
       "pyspark.sql.dataframe.DataFrame"
      ]
     },
     "execution_count": 38,
     "metadata": {},
     "output_type": "execute_result"
    }
   ],
   "source": [
    "type(total_boroughs)"
   ]
  },
  {
   "cell_type": "code",
   "execution_count": 39,
   "metadata": {},
   "outputs": [
    {
     "data": {
      "text/plain": [
       "33"
      ]
     },
     "execution_count": 39,
     "metadata": {},
     "output_type": "execute_result"
    }
   ],
   "source": [
    "total_boroughs.count()"
   ]
  },
  {
   "cell_type": "code",
   "execution_count": 41,
   "metadata": {},
   "outputs": [
    {
     "name": "stdout",
     "output_type": "stream",
     "text": [
      "+-------+--------------------+--------------------+-----+----+-----+\n",
      "|borough|      major_category|      minor_category|value|year|month|\n",
      "+-------+--------------------+--------------------+-----+----+-----+\n",
      "|Hackney|     Criminal Damage|Criminal Damage T...|    0|2011|    6|\n",
      "|Hackney|Violence Against ...|          Harassment|    1|2013|    2|\n",
      "|Hackney|     Criminal Damage|Other Criminal Da...|    0|2011|    7|\n",
      "|Hackney|Violence Against ...|        Wounding/GBH|    0|2013|   12|\n",
      "|Hackney|  Theft and Handling|  Other Theft Person|    0|2016|    8|\n",
      "+-------+--------------------+--------------------+-----+----+-----+\n",
      "only showing top 5 rows\n",
      "\n"
     ]
    }
   ],
   "source": [
    "hackney_data = data.filter(data['borough'] == 'Hackney')\n",
    "hackney_data.show(5)"
   ]
  },
  {
   "cell_type": "code",
   "execution_count": 42,
   "metadata": {},
   "outputs": [
    {
     "name": "stdout",
     "output_type": "stream",
     "text": [
      "+--------------------+--------------------+--------------------+-----+----+-----+\n",
      "|             borough|      major_category|      minor_category|value|year|month|\n",
      "+--------------------+--------------------+--------------------+-----+----+-----+\n",
      "|Kingston upon Thames|  Theft and Handling|Motor Vehicle Int...|    0|2016|    5|\n",
      "|       Tower Hamlets|            Burglary|Burglary in a Dwe...|    0|2016|    3|\n",
      "|               Brent|  Theft and Handling|  Other Theft Person|    1|2016|   12|\n",
      "|              Ealing|Violence Against ...|        Wounding/GBH|    0|2015|   12|\n",
      "|           Islington|    Fraud or Forgery|  Counted per Victim|    0|2015|    3|\n",
      "|             Bromley|     Criminal Damage|Criminal Damage T...|    0|2015|    9|\n",
      "|             Hackney|Violence Against ...| Assault with Injury|    2|2015|    5|\n",
      "|              Ealing|            Burglary|Burglary in Other...|    0|2016|    5|\n",
      "|           Southwark|  Theft and Handling|Handling Stolen G...|    0|2015|    3|\n",
      "|            Hounslow|Violence Against ...|      Other violence|    0|2015|   11|\n",
      "|              Ealing|  Theft and Handling|  Other Theft Person|    0|2015|    8|\n",
      "|           Redbridge|Other Notifiable ...|      Going Equipped|    0|2015|    9|\n",
      "|           Greenwich|     Criminal Damage|Criminal Damage T...|    0|2016|   10|\n",
      "|          Wandsworth|  Theft and Handling|Theft/Taking of P...|    0|2016|    2|\n",
      "|              Merton|Violence Against ...|          Harassment|    1|2015|    6|\n",
      "|             Enfield|               Drugs|    Drug Trafficking|    0|2016|   12|\n",
      "|              Ealing|            Burglary|Burglary in Other...|    0|2016|    9|\n",
      "|           Southwark|  Theft and Handling|Theft From Motor ...|    0|2015|   11|\n",
      "|             Croydon|            Burglary|Burglary in a Dwe...|    0|2016|    9|\n",
      "|            Haringey|Violence Against ...| Assault with Injury|    2|2015|    3|\n",
      "+--------------------+--------------------+--------------------+-----+----+-----+\n",
      "only showing top 20 rows\n",
      "\n"
     ]
    }
   ],
   "source": [
    "data_2015_2016 = data.filter(data['year'].isin(['2015', '2016']))\n",
    "data_2015_2016.sample(fraction = 0.1).show()"
   ]
  },
  {
   "cell_type": "code",
   "execution_count": 43,
   "metadata": {},
   "outputs": [
    {
     "name": "stdout",
     "output_type": "stream",
     "text": [
      "+--------------------+--------------------+--------------------+-----+----+-----+\n",
      "|             borough|      major_category|      minor_category|value|year|month|\n",
      "+--------------------+--------------------+--------------------+-----+----+-----+\n",
      "|           Greenwich|Violence Against ...|      Other violence|    0|2016|   11|\n",
      "|              Sutton|  Theft and Handling|Theft/Taking of P...|    1|2016|    8|\n",
      "|          Hillingdon|  Theft and Handling|Theft/Taking Of M...|    0|2016|    2|\n",
      "|           Southwark|               Drugs| Possession Of Drugs|    0|2015|    3|\n",
      "|             Croydon|  Theft and Handling|         Other Theft|    1|2014|    5|\n",
      "|               Brent|  Theft and Handling|Theft/Taking of P...|    0|2014|    9|\n",
      "|           Islington|     Sexual Offences|        Other Sexual|    0|2016|   10|\n",
      "|               Brent|Violence Against ...| Assault with Injury|    1|2014|    9|\n",
      "|             Croydon|Other Notifiable ...|      Going Equipped|    0|2014|    8|\n",
      "|         Westminster|  Theft and Handling|Theft From Motor ...|    6|2016|    8|\n",
      "|           Islington|     Criminal Damage|Other Criminal Da...|    5|2014|   12|\n",
      "|       Tower Hamlets|  Theft and Handling|Handling Stolen G...|    0|2015|   10|\n",
      "|           Redbridge|            Burglary|Burglary in Other...|    0|2015|    2|\n",
      "|             Bromley|Violence Against ...| Assault with Injury|    1|2014|    8|\n",
      "|Kingston upon Thames|Other Notifiable ...|      Going Equipped|    0|2015|   12|\n",
      "|            Lewisham|  Theft and Handling|  Other Theft Person|    0|2014|    4|\n",
      "|Barking and Dagenham|  Theft and Handling|Motor Vehicle Int...|    0|2014|    3|\n",
      "|            Hounslow|Violence Against ...|      Other violence|    0|2014|    2|\n",
      "|              Merton|Violence Against ...|          Harassment|    0|2015|    5|\n",
      "|          Wandsworth|  Theft and Handling|Theft/Taking of P...|    0|2016|    2|\n",
      "+--------------------+--------------------+--------------------+-----+----+-----+\n",
      "only showing top 20 rows\n",
      "\n"
     ]
    }
   ],
   "source": [
    "data_2014_onwards = data.filter(data['year'] >= 2014)\n",
    "data_2014_onwards.sample(fraction = 0.1).show()"
   ]
  },
  {
   "cell_type": "markdown",
   "metadata": {},
   "source": [
    "## Perform aggregations on the DataFrames"
   ]
  },
  {
   "cell_type": "code",
   "execution_count": 44,
   "metadata": {},
   "outputs": [
    {
     "name": "stdout",
     "output_type": "stream",
     "text": [
      "+--------------------+------+\n",
      "|             borough| count|\n",
      "+--------------------+------+\n",
      "|             Croydon|602100|\n",
      "|          Wandsworth|498636|\n",
      "|              Bexley|385668|\n",
      "|             Lambeth|519048|\n",
      "|Barking and Dagenham|311040|\n",
      "+--------------------+------+\n",
      "only showing top 5 rows\n",
      "\n"
     ]
    }
   ],
   "source": [
    "borough_crime_count = data.groupby('borough')\\\n",
    "                          .count()\n",
    "borough_crime_count.show(5)"
   ]
  },
  {
   "cell_type": "code",
   "execution_count": 46,
   "metadata": {},
   "outputs": [
    {
     "data": {
      "text/plain": [
       "33"
      ]
     },
     "execution_count": 46,
     "metadata": {},
     "output_type": "execute_result"
    }
   ],
   "source": [
    "borough_crime_count.count()"
   ]
  },
  {
   "cell_type": "code",
   "execution_count": 47,
   "metadata": {},
   "outputs": [
    {
     "name": "stdout",
     "output_type": "stream",
     "text": [
      "+--------------------+----------+\n",
      "|             borough|sum(value)|\n",
      "+--------------------+----------+\n",
      "|             Croydon|  260294.0|\n",
      "|          Wandsworth|  204741.0|\n",
      "|              Bexley|  114136.0|\n",
      "|             Lambeth|  292178.0|\n",
      "|Barking and Dagenham|  149447.0|\n",
      "+--------------------+----------+\n",
      "only showing top 5 rows\n",
      "\n"
     ]
    }
   ],
   "source": [
    "borough_conviction_sum = data.groupby('borough')\\\n",
    "                             .agg({'value':'sum'})   \n",
    "borough_conviction_sum.show(5)"
   ]
  },
  {
   "cell_type": "code",
   "execution_count": 54,
   "metadata": {},
   "outputs": [
    {
     "name": "stdout",
     "output_type": "stream",
     "text": [
      "+--------------------+----------+\n",
      "|             borough|sum(value)|\n",
      "+--------------------+----------+\n",
      "|             Croydon|  260294.0|\n",
      "|          Wandsworth|  204741.0|\n",
      "|              Bexley|  114136.0|\n",
      "|             Lambeth|  292178.0|\n",
      "|Barking and Dagenham|  149447.0|\n",
      "|              Camden|  275147.0|\n",
      "|           Greenwich|  181568.0|\n",
      "|              Newham|  262024.0|\n",
      "|       Tower Hamlets|  228613.0|\n",
      "|            Hounslow|  186772.0|\n",
      "|              Barnet|  212191.0|\n",
      "|              Harrow|  116848.0|\n",
      "|Kensington and Ch...|  171981.0|\n",
      "|           Islington|  230286.0|\n",
      "|               Brent|  227551.0|\n",
      "|            Haringey|  213272.0|\n",
      "|             Bromley|  184349.0|\n",
      "|              Merton|  115654.0|\n",
      "|         Westminster|  455028.0|\n",
      "|             Hackney|  217119.0|\n",
      "+--------------------+----------+\n",
      "only showing top 20 rows\n",
      "\n"
     ]
    }
   ],
   "source": [
    "borough_conviction_sum.show()"
   ]
  },
  {
   "cell_type": "code",
   "execution_count": 55,
   "metadata": {},
   "outputs": [
    {
     "name": "stdout",
     "output_type": "stream",
     "text": [
      "+--------------------+----------+\n",
      "|             borough|sum(value)|\n",
      "+--------------------+----------+\n",
      "|             Croydon|  260294.0|\n",
      "|          Wandsworth|  204741.0|\n",
      "|              Bexley|  114136.0|\n",
      "|             Lambeth|  292178.0|\n",
      "|Barking and Dagenham|  149447.0|\n",
      "+--------------------+----------+\n",
      "only showing top 5 rows\n",
      "\n"
     ]
    }
   ],
   "source": [
    "borough_conviction_sum.withColumnRenamed('sum(value)', 'convictions')\n",
    "borough_conviction_sum.show(5)"
   ]
  },
  {
   "cell_type": "code",
   "execution_count": 53,
   "metadata": {},
   "outputs": [
    {
     "data": {
      "text/plain": [
       "pyspark.sql.dataframe.DataFrame"
      ]
     },
     "execution_count": 53,
     "metadata": {},
     "output_type": "execute_result"
    }
   ],
   "source": [
    "type(borough_conviction_sum)"
   ]
  },
  {
   "cell_type": "code",
   "execution_count": 56,
   "metadata": {},
   "outputs": [
    {
     "name": "stdout",
     "output_type": "stream",
     "text": [
      "+--------------------+-----------+\n",
      "|             borough|convictions|\n",
      "+--------------------+-----------+\n",
      "|             Croydon|   260294.0|\n",
      "|          Wandsworth|   204741.0|\n",
      "|              Bexley|   114136.0|\n",
      "|             Lambeth|   292178.0|\n",
      "|Barking and Dagenham|   149447.0|\n",
      "+--------------------+-----------+\n",
      "only showing top 5 rows\n",
      "\n"
     ]
    }
   ],
   "source": [
    "borough_conviction_sum = data.groupby('borough')\\\n",
    "                             .agg({'value':'sum'})\\\n",
    "                             .withColumnRenamed('sum(value)', 'convictions')   \n",
    "borough_conviction_sum.show(5)"
   ]
  },
  {
   "cell_type": "code",
   "execution_count": 58,
   "metadata": {},
   "outputs": [
    {
     "name": "stdout",
     "output_type": "stream",
     "text": [
      "+--------------------+----------+\n",
      "|             borough|sum(value)|\n",
      "+--------------------+----------+\n",
      "|             Croydon|  260294.0|\n",
      "|          Wandsworth|  204741.0|\n",
      "|              Bexley|  114136.0|\n",
      "|             Lambeth|  292178.0|\n",
      "|Barking and Dagenham|  149447.0|\n",
      "+--------------------+----------+\n",
      "only showing top 5 rows\n",
      "\n"
     ]
    }
   ],
   "source": [
    "borough_conviction_new_columnName = borough_conviction_sum.withColumnRenamed('convictions', 'sum(value)')\n",
    "borough_conviction_new_columnName.show(5)"
   ]
  },
  {
   "cell_type": "markdown",
   "metadata": {},
   "source": [
    "So, revisit the last 4 cells and try to understand why we need to create a new DataFrame object whenever\n",
    "we want to modify a column name (or anything else) in the current DataFrame. \n",
    "Remember, DataFrame objects , just like RDDs, are read-only and immutable. So, they can't be modified in place."
   ]
  },
  {
   "cell_type": "code",
   "execution_count": 60,
   "metadata": {},
   "outputs": [
    {
     "name": "stdout",
     "output_type": "stream",
     "text": [
      "+----------------+\n",
      "|sum(convictions)|\n",
      "+----------------+\n",
      "|       6447758.0|\n",
      "+----------------+\n",
      "\n"
     ]
    }
   ],
   "source": [
    "total_borough_convictions = borough_conviction_sum.agg({'convictions':'sum'})\n",
    "total_borough_convictions.show()"
   ]
  },
  {
   "cell_type": "code",
   "execution_count": 66,
   "metadata": {},
   "outputs": [
    {
     "data": {
      "text/plain": [
       "[Row(sum(convictions)=6447758.0)]"
      ]
     },
     "execution_count": 66,
     "metadata": {},
     "output_type": "execute_result"
    }
   ],
   "source": [
    "total_convictions = total_borough_convictions.collect()\n",
    "total_convictions"
   ]
  },
  {
   "cell_type": "code",
   "execution_count": 68,
   "metadata": {},
   "outputs": [
    {
     "data": {
      "text/plain": [
       "6447758.0"
      ]
     },
     "execution_count": 68,
     "metadata": {},
     "output_type": "execute_result"
    }
   ],
   "source": [
    "total_convictions = total_borough_convictions.collect()[0][0]\n",
    "total_convictions"
   ]
  },
  {
   "cell_type": "code",
   "execution_count": 70,
   "metadata": {},
   "outputs": [],
   "source": [
    "import pyspark.sql.functions as func"
   ]
  },
  {
   "cell_type": "code",
   "execution_count": 72,
   "metadata": {},
   "outputs": [
    {
     "name": "stdout",
     "output_type": "stream",
     "text": [
      "root\n",
      " |-- borough: string (nullable = true)\n",
      " |-- convictions: double (nullable = true)\n",
      " |-- % contribution: double (nullable = true)\n",
      "\n"
     ]
    }
   ],
   "source": [
    "borough_percentage_contribution = borough_conviction_sum.withColumn(\n",
    "'% contribution', \n",
    "func.round(borough_conviction_sum.convictions / total_convictions * 100, 2))\n",
    "\n",
    "borough_percentage_contribution.printSchema()"
   ]
  },
  {
   "cell_type": "code",
   "execution_count": 73,
   "metadata": {},
   "outputs": [
    {
     "name": "stdout",
     "output_type": "stream",
     "text": [
      "+--------------------+-----------+--------------+\n",
      "|             borough|convictions|% contribution|\n",
      "+--------------------+-----------+--------------+\n",
      "|             Croydon|   260294.0|          4.04|\n",
      "|          Wandsworth|   204741.0|          3.18|\n",
      "|              Bexley|   114136.0|          1.77|\n",
      "|             Lambeth|   292178.0|          4.53|\n",
      "|Barking and Dagenham|   149447.0|          2.32|\n",
      "|              Camden|   275147.0|          4.27|\n",
      "|           Greenwich|   181568.0|          2.82|\n",
      "|              Newham|   262024.0|          4.06|\n",
      "|       Tower Hamlets|   228613.0|          3.55|\n",
      "|            Hounslow|   186772.0|           2.9|\n",
      "+--------------------+-----------+--------------+\n",
      "only showing top 10 rows\n",
      "\n"
     ]
    }
   ],
   "source": [
    "borough_percentage_contribution.show(10)"
   ]
  },
  {
   "cell_type": "code",
   "execution_count": 76,
   "metadata": {},
   "outputs": [
    {
     "name": "stdout",
     "output_type": "stream",
     "text": [
      "+--------------------+-----------+--------------+\n",
      "|             borough|convictions|% contribution|\n",
      "+--------------------+-----------+--------------+\n",
      "|         Westminster|   455028.0|          7.06|\n",
      "|             Lambeth|   292178.0|          4.53|\n",
      "|           Southwark|   278809.0|          4.32|\n",
      "|              Camden|   275147.0|          4.27|\n",
      "|              Newham|   262024.0|          4.06|\n",
      "|             Croydon|   260294.0|          4.04|\n",
      "|              Ealing|   251562.0|           3.9|\n",
      "|           Islington|   230286.0|          3.57|\n",
      "|       Tower Hamlets|   228613.0|          3.55|\n",
      "|               Brent|   227551.0|          3.53|\n",
      "|             Hackney|   217119.0|          3.37|\n",
      "|            Lewisham|   215137.0|          3.34|\n",
      "|            Haringey|   213272.0|          3.31|\n",
      "|              Barnet|   212191.0|          3.29|\n",
      "|          Hillingdon|   209680.0|          3.25|\n",
      "|          Wandsworth|   204741.0|          3.18|\n",
      "|      Waltham Forest|   203879.0|          3.16|\n",
      "|             Enfield|   193880.0|          3.01|\n",
      "|            Hounslow|   186772.0|           2.9|\n",
      "|Hammersmith and F...|   185259.0|          2.87|\n",
      "+--------------------+-----------+--------------+\n",
      "only showing top 20 rows\n",
      "\n"
     ]
    }
   ],
   "source": [
    "borough_percentage_contribution.orderBy(borough_percentage_contribution[2].desc())\\\n",
    "                               .show() "
   ]
  },
  {
   "cell_type": "code",
   "execution_count": 83,
   "metadata": {},
   "outputs": [
    {
     "name": "stdout",
     "output_type": "stream",
     "text": [
      "+-----+-----------+\n",
      "|month|convictions|\n",
      "+-----+-----------+\n",
      "|    7|    58564.0|\n",
      "|   11|    59704.0|\n",
      "|    3|    57669.0|\n",
      "|    8|    55641.0|\n",
      "|    5|    56327.0|\n",
      "|    6|    57039.0|\n",
      "|    9|    56933.0|\n",
      "|    1|    55515.0|\n",
      "|   10|    60537.0|\n",
      "|    4|    53467.0|\n",
      "|   12|    57565.0|\n",
      "|    2|    51222.0|\n",
      "+-----+-----------+\n",
      "\n"
     ]
    }
   ],
   "source": [
    "convictions_monthly = data.filter(data['year'] == 2014)\\\n",
    "                     .groupby('month')\\\n",
    "                     .agg({'value' : 'sum'})\\\n",
    "                     .withColumnRenamed('sum(value)', 'convictions')\n",
    "\n",
    "convictions_monthly.show()"
   ]
  },
  {
   "cell_type": "code",
   "execution_count": 82,
   "metadata": {},
   "outputs": [
    {
     "name": "stdout",
     "output_type": "stream",
     "text": [
      "+-----+-----------+\n",
      "|month|convictions|\n",
      "+-----+-----------+\n",
      "|    9|    56933.0|\n",
      "|    8|    55641.0|\n",
      "|    7|    58564.0|\n",
      "|    6|    57039.0|\n",
      "|    5|    56327.0|\n",
      "|    4|    53467.0|\n",
      "|    3|    57669.0|\n",
      "|    2|    51222.0|\n",
      "|   12|    57565.0|\n",
      "|   11|    59704.0|\n",
      "|   10|    60537.0|\n",
      "|    1|    55515.0|\n",
      "+-----+-----------+\n",
      "\n"
     ]
    }
   ],
   "source": [
    "convictions_monthly = data.filter(data['year'] == 2014)\\\n",
    "                     .groupby('month')\\\n",
    "                     .agg({'value' : 'sum'})\\\n",
    "                     .orderBy(convictions_monthly[0].desc())\\\n",
    "                     .withColumnRenamed('sum(value)', 'convictions')\n",
    "\n",
    "convictions_monthly.show()"
   ]
  },
  {
   "cell_type": "code",
   "execution_count": 91,
   "metadata": {},
   "outputs": [],
   "source": [
    "conviction_for_year_2014 = convictions_monthly.agg({'convictions' : 'sum'}).collect()[0][0]"
   ]
  },
  {
   "cell_type": "code",
   "execution_count": 92,
   "metadata": {},
   "outputs": [
    {
     "data": {
      "text/plain": [
       "680183.0"
      ]
     },
     "execution_count": 92,
     "metadata": {},
     "output_type": "execute_result"
    }
   ],
   "source": [
    "conviction_for_year_2014"
   ]
  },
  {
   "cell_type": "code",
   "execution_count": 93,
   "metadata": {},
   "outputs": [
    {
     "data": {
      "text/plain": [
       "['month', 'convictions', 'percent']"
      ]
     },
     "execution_count": 93,
     "metadata": {},
     "output_type": "execute_result"
    }
   ],
   "source": [
    "conviction_for_year_2014 = convictions_monthly.withColumn('percent', \n",
    "                                                         func.round(convictions_monthly.convictions / \n",
    "                                                                    conviction_for_year_2014 * 100, 2))\n",
    "\n",
    "conviction_for_year_2014.columns"
   ]
  },
  {
   "cell_type": "code",
   "execution_count": 95,
   "metadata": {},
   "outputs": [
    {
     "name": "stdout",
     "output_type": "stream",
     "text": [
      "+-----+-----------+-------+\n",
      "|month|convictions|percent|\n",
      "+-----+-----------+-------+\n",
      "|   10|    60537.0|    8.9|\n",
      "|   11|    59704.0|   8.78|\n",
      "|    7|    58564.0|   8.61|\n",
      "|    3|    57669.0|   8.48|\n",
      "|   12|    57565.0|   8.46|\n",
      "|    6|    57039.0|   8.39|\n",
      "|    9|    56933.0|   8.37|\n",
      "|    5|    56327.0|   8.28|\n",
      "|    8|    55641.0|   8.18|\n",
      "|    1|    55515.0|   8.16|\n",
      "|    4|    53467.0|   7.86|\n",
      "|    2|    51222.0|   7.53|\n",
      "+-----+-----------+-------+\n",
      "\n"
     ]
    }
   ],
   "source": [
    "conviction_for_year_2014.orderBy(conviction_for_year_2014.percent.desc()).show()"
   ]
  },
  {
   "cell_type": "markdown",
   "metadata": {},
   "source": [
    "## More Aggregations And Visualisations"
   ]
  },
  {
   "cell_type": "code",
   "execution_count": 104,
   "metadata": {},
   "outputs": [],
   "source": [
    "crimes_category = data.groupBy('major_category')\\\n",
    "                      .agg({'value' : 'sum'})\\\n",
    "                      .withColumnRenamed('sum(value)', 'convictions')    "
   ]
  },
  {
   "cell_type": "code",
   "execution_count": 105,
   "metadata": {},
   "outputs": [
    {
     "name": "stdout",
     "output_type": "stream",
     "text": [
      "+--------------------+-----------+\n",
      "|      major_category|convictions|\n",
      "+--------------------+-----------+\n",
      "|  Theft and Handling|  2661861.0|\n",
      "|Violence Against ...|  1558081.0|\n",
      "|            Burglary|   754293.0|\n",
      "|     Criminal Damage|   630938.0|\n",
      "|               Drugs|   470765.0|\n",
      "|             Robbery|   258873.0|\n",
      "|Other Notifiable ...|   106349.0|\n",
      "|    Fraud or Forgery|     5325.0|\n",
      "|     Sexual Offences|     1273.0|\n",
      "+--------------------+-----------+\n",
      "\n"
     ]
    }
   ],
   "source": [
    "crimes_category.orderBy(crimes_category.convictions.desc()).show()"
   ]
  },
  {
   "cell_type": "code",
   "execution_count": 99,
   "metadata": {},
   "outputs": [
    {
     "data": {
      "text/plain": [
       "pyspark.sql.dataframe.DataFrame"
      ]
     },
     "execution_count": 99,
     "metadata": {},
     "output_type": "execute_result"
    }
   ],
   "source": [
    "type(crimes_category)"
   ]
  },
  {
   "cell_type": "code",
   "execution_count": 106,
   "metadata": {},
   "outputs": [],
   "source": [
    "year_df = data.select('year')"
   ]
  },
  {
   "cell_type": "code",
   "execution_count": 107,
   "metadata": {},
   "outputs": [
    {
     "name": "stdout",
     "output_type": "stream",
     "text": [
      "+---------+\n",
      "|min(year)|\n",
      "+---------+\n",
      "|     2008|\n",
      "+---------+\n",
      "\n"
     ]
    }
   ],
   "source": [
    "year_df.agg({'year':'min'}).show()"
   ]
  },
  {
   "cell_type": "code",
   "execution_count": 108,
   "metadata": {},
   "outputs": [
    {
     "name": "stdout",
     "output_type": "stream",
     "text": [
      "+---------+\n",
      "|max(year)|\n",
      "+---------+\n",
      "|     2016|\n",
      "+---------+\n",
      "\n"
     ]
    }
   ],
   "source": [
    "year_df.agg({'year':'max'}).show()"
   ]
  },
  {
   "cell_type": "code",
   "execution_count": 109,
   "metadata": {},
   "outputs": [
    {
     "name": "stdout",
     "output_type": "stream",
     "text": [
      "+-------+-----------------+\n",
      "|summary|             year|\n",
      "+-------+-----------------+\n",
      "|  count|         13490604|\n",
      "|   mean|           2012.0|\n",
      "| stddev|2.581988993167432|\n",
      "|    min|             2008|\n",
      "|    max|             2016|\n",
      "+-------+-----------------+\n",
      "\n"
     ]
    }
   ],
   "source": [
    "year_df.describe().show()"
   ]
  },
  {
   "cell_type": "code",
   "execution_count": 110,
   "metadata": {},
   "outputs": [
    {
     "name": "stdout",
     "output_type": "stream",
     "text": [
      "+----------------------+--------+-----+----------------+-------+\n",
      "|borough_major_category|Burglary|Drugs|Fraud or Forgery|Robbery|\n",
      "+----------------------+--------+-----+----------------+-------+\n",
      "|              Havering|   32400|32616|            5508|  27648|\n",
      "|                Merton|   26784|29160|            5724|  23652|\n",
      "|              Haringey|   31320|35424|           10368|  29484|\n",
      "|         Tower Hamlets|   31104|37368|            5400|  28512|\n",
      "|               Bromley|   42552|42336|            8532|  34668|\n",
      "|               Enfield|   39528|44064|            9720|  35532|\n",
      "|  Kingston upon Thames|   21168|22140|            3780|  15660|\n",
      "|           Westminster|   27648|32616|            8748|  25056|\n",
      "|  Richmond upon Thames|   24840|23004|            2808|  18468|\n",
      "|              Lewisham|   36504|43740|           11016|  34884|\n",
      "|                 Brent|   37368|46980|            9288|  34128|\n",
      "|  Barking and Dagenham|   23760|26244|            7236|  22248|\n",
      "|             Redbridge|   34776|36504|            8532|  32400|\n",
      "|             Islington|   26568|34128|            5184|  26244|\n",
      "|               Hackney|   31104|38772|            7560|  29160|\n",
      "|                Newham|   35424|41580|           10692|  34452|\n",
      "|        City of London|     540|  756|               0|    540|\n",
      "|                Sutton|   26136|26784|            3024|  21060|\n",
      "|             Southwark|   35856|45144|           11772|  35316|\n",
      "|                Harrow|   29592|31212|            4752|  23976|\n",
      "+----------------------+--------+-----+----------------+-------+\n",
      "only showing top 20 rows\n",
      "\n"
     ]
    }
   ],
   "source": [
    "data.crosstab('borough', 'major_category')\\\n",
    "    .select('borough_major_category', 'Burglary', 'Drugs', 'Fraud or Forgery', 'Robbery')\\\n",
    "    .show()"
   ]
  },
  {
   "cell_type": "code",
   "execution_count": 111,
   "metadata": {},
   "outputs": [],
   "source": [
    "get_ipython().magic('matplotlib inline')\n",
    "import matplotlib.pyplot as plt\n",
    "plt.style.use('ggplot')"
   ]
  },
  {
   "cell_type": "markdown",
   "metadata": {},
   "source": [
    "So that's the end of exploratory data analysis of DataFrames on London Crime Dataset."
   ]
  },
  {
   "cell_type": "code",
   "execution_count": null,
   "metadata": {},
   "outputs": [],
   "source": []
  }
 ],
 "metadata": {
  "kernelspec": {
   "display_name": "Python 3",
   "language": "python",
   "name": "python3"
  },
  "language_info": {
   "codemirror_mode": {
    "name": "ipython",
    "version": 3
   },
   "file_extension": ".py",
   "mimetype": "text/x-python",
   "name": "python",
   "nbconvert_exporter": "python",
   "pygments_lexer": "ipython3",
   "version": "3.7.3"
  }
 },
 "nbformat": 4,
 "nbformat_minor": 2
}
