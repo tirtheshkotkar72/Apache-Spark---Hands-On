{
 "cells": [
  {
   "cell_type": "code",
   "execution_count": 7,
   "metadata": {},
   "outputs": [],
   "source": [
    "booksPath = \"file:///home/icpl11549/spark-install/spark-2.4.4-bin-hadoop2.7/spark_practice/Datasets/Books.txt\"\n",
    "charactersPath = \"file:///home/icpl11549/spark-install/spark-2.4.4-bin-hadoop2.7/spark_practice/Datasets/Characters.txt\"\n",
    "edgesPath = \"file:///home/icpl11549/spark-install/spark-2.4.4-bin-hadoop2.7/spark_practice/Datasets/Edges.txt\""
   ]
  },
  {
   "cell_type": "code",
   "execution_count": 8,
   "metadata": {},
   "outputs": [],
   "source": [
    "books = sc.textFile(booksPath)\n",
    "characters = sc.textFile(charactersPath)\n",
    "edges = sc.textFile(edgesPath)"
   ]
  },
  {
   "cell_type": "code",
   "execution_count": 9,
   "metadata": {},
   "outputs": [
    {
     "data": {
      "text/plain": [
       "['Vertex 6487: AA2 35',\n",
       " 'Vertex 6488: M/PRM 35',\n",
       " 'Vertex 6489: M/PRM 36',\n",
       " 'Vertex 6490: M/PRM 37',\n",
       " 'Vertex 6491: WI? 9',\n",
       " 'Vertex 6492: AVF 4',\n",
       " 'Vertex 6493: AVF 5',\n",
       " 'Vertex 6494: H2 251',\n",
       " 'Vertex 6495: H2 252',\n",
       " 'Vertex 6496: COC 1']"
      ]
     },
     "execution_count": 9,
     "metadata": {},
     "output_type": "execute_result"
    }
   ],
   "source": [
    "books.take(10)"
   ]
  },
  {
   "cell_type": "code",
   "execution_count": 10,
   "metadata": {},
   "outputs": [
    {
     "data": {
      "text/plain": [
       "['Vertex 1: 24-HOUR MAN/EMMANUEL',\n",
       " 'Vertex 2: 3-D MAN/CHARLES CHANDLER & HAROLD CHANDLER',\n",
       " 'Vertex 3: 4-D MAN/MERCURIO',\n",
       " 'Vertex 4: 8-BALL/',\n",
       " 'Vertex 5: A',\n",
       " \"Vertex 6: A'YIN\",\n",
       " 'Vertex 7: ABBOTT, JACK',\n",
       " 'Vertex 8: ABCISSA',\n",
       " 'Vertex 9: ABEL',\n",
       " 'Vertex 10: ABOMINATION/EMIL BLONSKY']"
      ]
     },
     "execution_count": 10,
     "metadata": {},
     "output_type": "execute_result"
    }
   ],
   "source": [
    "characters.take(10)"
   ]
  },
  {
   "cell_type": "code",
   "execution_count": 11,
   "metadata": {},
   "outputs": [
    {
     "data": {
      "text/plain": [
       "['*Vertices 19428 6486',\n",
       " '1 \"24-HOUR MAN/EMMANUEL\"',\n",
       " '2 \"3-D MAN/CHARLES CHAN\"',\n",
       " '3 \"4-D MAN/MERCURIO\"',\n",
       " '4 \"8-BALL/\"',\n",
       " '5 \"A\"',\n",
       " '6 \"A\\'YIN\"',\n",
       " '7 \"ABBOTT, JACK\"',\n",
       " '8 \"ABCISSA\"',\n",
       " '9 \"ABEL\"']"
      ]
     },
     "execution_count": 11,
     "metadata": {},
     "output_type": "execute_result"
    }
   ],
   "source": [
    "edges.take(10)"
   ]
  },
  {
   "cell_type": "code",
   "execution_count": 15,
   "metadata": {},
   "outputs": [],
   "source": [
    "def edgeFilter(row):\n",
    "    if '*' in row or '\"' in row:\n",
    "        return False\n",
    "    else:\n",
    "        return True\n",
    "edgesFiltered = edges.filter(edgeFilter)"
   ]
  },
  {
   "cell_type": "code",
   "execution_count": 13,
   "metadata": {},
   "outputs": [
    {
     "data": {
      "text/plain": [
       "['1 6487',\n",
       " '2 6488 6489 6490 6491 6492 6493 6494 6495 6496',\n",
       " '3 6497 6498 6499 6500 6501 6502 6503 6504 6505',\n",
       " '4 6506 6507 6508',\n",
       " '5 6509 6510 6511',\n",
       " '6 6512 6513 6514 6515',\n",
       " '7 6516',\n",
       " '8 6517 6518',\n",
       " '9 6519 6520',\n",
       " '10 6521 6522 6523 6524 6525 6526 6527 6528 6529 6530 6531 6532 6533 6534 6535']"
      ]
     },
     "execution_count": 13,
     "metadata": {},
     "output_type": "execute_result"
    }
   ],
   "source": [
    "edgesFiltered.take(10)"
   ]
  },
  {
   "cell_type": "code",
   "execution_count": 16,
   "metadata": {},
   "outputs": [],
   "source": [
    "characterBookMap = edgesFiltered.map(lambda x:x.split()).map(lambda x:(x[0], x[1:]))\n"
   ]
  },
  {
   "cell_type": "code",
   "execution_count": 17,
   "metadata": {},
   "outputs": [
    {
     "data": {
      "text/plain": [
       "[('1', ['6487']),\n",
       " ('2',\n",
       "  ['6488', '6489', '6490', '6491', '6492', '6493', '6494', '6495', '6496']),\n",
       " ('3',\n",
       "  ['6497', '6498', '6499', '6500', '6501', '6502', '6503', '6504', '6505']),\n",
       " ('4', ['6506', '6507', '6508']),\n",
       " ('5', ['6509', '6510', '6511']),\n",
       " ('6', ['6512', '6513', '6514', '6515']),\n",
       " ('7', ['6516']),\n",
       " ('8', ['6517', '6518']),\n",
       " ('9', ['6519', '6520']),\n",
       " ('10',\n",
       "  ['6521',\n",
       "   '6522',\n",
       "   '6523',\n",
       "   '6524',\n",
       "   '6525',\n",
       "   '6526',\n",
       "   '6527',\n",
       "   '6528',\n",
       "   '6529',\n",
       "   '6530',\n",
       "   '6531',\n",
       "   '6532',\n",
       "   '6533',\n",
       "   '6534',\n",
       "   '6535'])]"
      ]
     },
     "execution_count": 17,
     "metadata": {},
     "output_type": "execute_result"
    }
   ],
   "source": [
    "characterBookMap.take(10)"
   ]
  },
  {
   "cell_type": "code",
   "execution_count": null,
   "metadata": {},
   "outputs": [],
   "source": []
  }
 ],
 "metadata": {
  "kernelspec": {
   "display_name": "Python 3",
   "language": "python",
   "name": "python3"
  },
  "language_info": {
   "codemirror_mode": {
    "name": "ipython",
    "version": 3
   },
   "file_extension": ".py",
   "mimetype": "text/x-python",
   "name": "python",
   "nbconvert_exporter": "python",
   "pygments_lexer": "ipython3",
   "version": "3.7.3"
  }
 },
 "nbformat": 4,
 "nbformat_minor": 2
}
